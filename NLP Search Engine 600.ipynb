{
 "cells": [
  {
   "cell_type": "markdown",
   "metadata": {},
   "source": [
    "# Creating a Simple Search Engine using NLP"
   ]
  },
  {
   "cell_type": "markdown",
   "metadata": {},
   "source": [
    "**We will start by importing the required libraries**"
   ]
  },
  {
   "cell_type": "code",
   "execution_count": 1,
   "metadata": {
    "collapsed": true
   },
   "outputs": [],
   "source": [
    "import codecs \n",
    "import re\n",
    "import numpy as np\n",
    "from IPython.display import clear_output"
   ]
  },
  {
   "cell_type": "code",
   "execution_count": 2,
   "metadata": {
    "collapsed": true
   },
   "outputs": [],
   "source": [
    "## Let us load the dataset "
   ]
  },
  {
   "cell_type": "code",
   "execution_count": 3,
   "metadata": {
    "collapsed": true
   },
   "outputs": [],
   "source": [
    "text = codecs.open('./wiki-600', encoding='utf-8').read()"
   ]
  },
  {
   "cell_type": "code",
   "execution_count": 4,
   "metadata": {
    "collapsed": true
   },
   "outputs": [],
   "source": [
    "starts = [match.span()[0] for match in re.finditer('\\n = [^=]', text)]"
   ]
  },
  {
   "cell_type": "code",
   "execution_count": 5,
   "metadata": {
    "collapsed": true
   },
   "outputs": [],
   "source": [
    "articles = list()"
   ]
  },
  {
   "cell_type": "code",
   "execution_count": 6,
   "metadata": {
    "collapsed": true
   },
   "outputs": [],
   "source": [
    "for ii, start in enumerate(starts):\n",
    "    end = starts[ii+1] if ii+1 < len(starts) else len(text)\n",
    "    articles.append(text[start:end])"
   ]
  },
  {
   "cell_type": "code",
   "execution_count": 7,
   "metadata": {},
   "outputs": [
    {
     "name": "stdout",
     "output_type": "stream",
     "text": [
      "= Valkyria Chronicles III = Senjō no Valkyria 3 : Unrecorded Chronicles ( Japanese : 戦場のヴァルキュリア3 , lit . Valkyria of the Battlefield 3 ) , commonly referred to as Valkyria Chronicles III outside Japan , is a tactical role @-@ playing video game developed by Sega and Media.Vision for the PlaySt\n",
      "= Tower Building of the Little Rock Arsenal = The Tower Building of the Little Rock Arsenal , also known as U.S. Arsenal Building , is a building located in MacArthur Park in downtown Little Rock , Arkansas . Built in 1840 , it was part of Little Rock 's first military installation . Since its\n",
      "= Cicely Mary Barker = Cicely Mary Barker ( 28 June 1895 – 16 February 1973 ) was an English illustrator best known for a series of fantasy illustrations depicting fairies and flowers . Barker 's art education began in girlhood with correspondence courses and instruction at the Croydon School\n",
      "= Gambia women 's national football team = The Gambia women 's national football team represents the Gambia in international football competition . The team , however , has not competed in a match recognised by FIFA , the sport 's international governing body , despite that organised women 's\n",
      "= Plain maskray = The plain maskray or brown stingray ( Neotrygon annotata ) is a species of stingray in the family Dasyatidae . It is found in shallow , soft @-@ bottomed habitats off northern Australia . Reaching 24 cm ( 9 @.@ 4 in ) in width , this species has a diamond @-@ shaped , grayish\n",
      "= 2011 – 12 Columbus Blue Jackets season = The 2011 – 12 Columbus Blue Jackets season was the team 's 12th season in the National Hockey League ( NHL ) . The Blue Jackets ' record of 29 – 46 – 7 [ note 1 ] was the worst record in the NHL for 2011 – 12 and the first time in franchise history th\n",
      "= Position ; GP = Games played in ; G\n",
      "= Goals ; A = Assists ; Pts\n",
      "= Points ; PIM = Penalty minutes ; + / - = Plus / minus = = = Goaltenders = = = Note : GP\n",
      "= Games Played ; TOI = Time On Ice ( minutes ) ; W\n",
      "= Wins ; L = Losses ; OT\n",
      "= Overtime Losses ; GA = Goals Against ; GAA = Goals Against Average ; SA = Shots Against ; SV\n",
      "= Saves ; Sv % = Save Percentage ; SO = Shutouts † Denotes player spent time with another team before joining Blue Jackets . Stats reflect time with the Blue Jackets only . ‡ Traded mid @-@ season = = Milestones = = When Mason was injured in warm @-@ ups late in the year , Columbus was\n",
      "= Gregorian Tower = The Gregorian Tower ( Italian : Torre Gregoriana ) or Tower of the Winds ( Italian : Torre dei Venti ) is a round tower located above the Gallery of Maps , which connects the Villa Belvedere with the Apostolic Palace in Vatican City . The tower was built between 1578 and 15\n",
      "= There 's Got to Be a Way = \" There 's Got to Be a Way \" is a song by American singer and songwriter Mariah Carey from her self @-@ titled debut studio album ( 1990 ) . Columbia released it as the fifth and final single from the album in the United Kingdom . It was one of four songs Carey wro\n",
      "= Nebraska Highway 88 = Nebraska Highway 88 ( N @-@ 88 ) is a highway in northwestern Nebraska . It has a western terminus at Wyoming Highway 151 ( WYO 151 ) at the Wyoming – Nebraska state line . The road travels eastward to N @-@ 71 , where it turns south . N @-@ 88 continues east to south o\n",
      "= USS Atlanta ( 1861 ) = Atlanta was a casemate ironclad that served in the Confederate and Union Navies during the American Civil War . She was converted from a Scottish @-@ built blockade runner named Fingal by the Confederacy after she made one run to Savannah , Georgia . After several fail\n",
      "= Jacqueline Fernandez = Jacqueline Fernandez ( born 11 August 1985 ) is a Sri Lankan actress , former model , and the winner of the 2006 Miss Universe Sri Lanka pageant . As Miss Universe Sri Lanka she represented her country at the 2006 world Miss Universe pageant . She graduated with a degr\n",
      "= John Cullen = Barry John Cullen ( born August 2 , 1964 ) is a Canadian former professional ice hockey centre who played in the National Hockey League ( NHL ) for the Pittsburgh Penguins , Hartford Whalers , Toronto Maple Leafs and Tampa Bay Lightning . He was a standout player for Boston Uni\n",
      "= SMS Erzherzog Ferdinand Max = For the ironclad present at the Battle of Lissa of the same name , see SMS Erzherzog Ferdinand Max ( 1865 ) . SMS Erzherzog Ferdinand Max ( German : \" His Majesty 's ship Archduke Ferdinand Max \" ) was a pre @-@ dreadnought battleship built by the Austro @-@ H\n"
     ]
    }
   ],
   "source": [
    "snippets = [' '.join(article[:300].split()) for article in articles]\n",
    " \n",
    "for snippet in snippets[:20]:\n",
    "    print(snippet)"
   ]
  },
  {
   "cell_type": "markdown",
   "metadata": {},
   "source": [
    "Some notes:\n",
    "\n",
    "1. We are using the wiki-600 to begin with.\n",
    "2. All articles are in one file. Articles titles are formatted as follows: = Albert Einstein = . If it has two or more =      signs on both sides, then it's a subheading. The regex looks for article titles, and splits the text file.\n",
    "3. Then we calculate snippets, i.e. the first 300 characters for each article."
   ]
  },
  {
   "cell_type": "markdown",
   "metadata": {},
   "source": [
    "** Time to import some nltk for data processing,tokenising and other tasks**"
   ]
  },
  {
   "cell_type": "code",
   "execution_count": 8,
   "metadata": {
    "collapsed": true
   },
   "outputs": [],
   "source": [
    "# Tokenising the article \n",
    "# Calculating Term Frequencies\n",
    "import sys\n",
    "from collections import defaultdict\n",
    "from nltk.tokenize import word_tokenize               # <=== tokenizer \n",
    "from nltk.stem.porter import PorterStemmer            # <=== stemmer \n",
    "from nltk.corpus import stopwords as nltk_stopwords   # <=== stopwords\n",
    "STOPWORDS = set(nltk_stopwords.words('english'))"
   ]
  },
  {
   "cell_type": "markdown",
   "metadata": {},
   "source": [
    "1. We start by initiating PorterStemmer, it is used to normalize words for e.g. Loves, Love, loving, loved all these words give the same context, but their multiple occurance gives more vectors and more computation is required. So its better to leave them\n",
    "2. Inside the function, we first lower case the words to have all the words in same patter\n",
    "3. Then we remove everything excecpt Alphanumerics\n",
    "4. We split and join to give a string again\n",
    "5. Then we remove the stopwords\n",
    "6. In the end we have cleaned dataset with only aplhanumerics"
   ]
  },
  {
   "cell_type": "code",
   "execution_count": 9,
   "metadata": {
    "collapsed": true
   },
   "outputs": [],
   "source": [
    "ps = PorterStemmer()\n",
    "term_frequency = defaultdict(dict)\n",
    " \n",
    "def get_tokens(article):\n",
    "    article = article.lower()\n",
    "    article = re.sub(r'[^a-zA-Z0-9]', ' ', article)\n",
    "    article.split()\n",
    "    article = ''.join(article)\n",
    "    tokens = [ps.stem(tokens) for tokens in article.split() if tokens not in nltk_stopwords.words(\"english\")]\n",
    "    return tokens"
   ]
  },
  {
   "cell_type": "markdown",
   "metadata": {},
   "source": [
    "In the index function, we first tokenize the given article, then we count the number of occurance of every token and store it in the term frequency dictionary\n",
    "\n",
    "Then using for loop we populate the term_frequency dictionary and it gives us term frequency of corpus"
   ]
  },
  {
   "cell_type": "code",
   "execution_count": 10,
   "metadata": {},
   "outputs": [
    {
     "name": "stdout",
     "output_type": "stream",
     "text": [
      "10, 20, 30, 40, 50, 60, 70, 80, 90, 100, 110, 120, 130, 140, 150, 160, 170, 180, 190, 200, 210, 220, 230, 240, 250, 260, 270, 280, 290, 300, 310, 320, 330, 340, 350, 360, 370, 380, 390, 400, 410, 420, 430, 440, 450, 460, 470, 480, 490, 500, 510, 520, 530, 540, 550, 560, 570, 580, 590, 600, 610, 620, "
     ]
    }
   ],
   "source": [
    "def index(id, article):\n",
    "    tokens = get_tokens(article)\n",
    "    # TODO: calculate term frequencies and store in term_frequency[token][id]\n",
    "    for token in tokens:\n",
    "        term_frequency[token][id] = tokens.count(token)\n",
    " \n",
    "for ii, article in enumerate(articles):\n",
    "    if ii and ii % 10 == 0: print(ii, end=', ')\n",
    "    sys.stdout.flush()\n",
    "    index(ii, article)\n",
    " "
   ]
  },
  {
   "cell_type": "markdown",
   "metadata": {},
   "source": [
    "Just a random check of our function"
   ]
  },
  {
   "cell_type": "code",
   "execution_count": 11,
   "metadata": {},
   "outputs": [
    {
     "name": "stdout",
     "output_type": "stream",
     "text": [
      "term_frequency for \"einstein\"\n",
      "{84: 5, 294: 1, 300: 1}\n",
      "3\n"
     ]
    }
   ],
   "source": [
    "print('term_frequency for \"einstein\"')\n",
    "print(term_frequency['einstein'])\n",
    "print(len(term_frequency['einstein']))\n",
    "# Expected output: {300: 1, 84: 5, 294: 1}\n",
    "# That is, articles[300] has token einstein 1 times, articles[5] has \n",
    "# token einstein 5 times, and articles[294] has token einstein 1 times."
   ]
  },
  {
   "cell_type": "markdown",
   "metadata": {},
   "source": [
    "This function is used to count **TFIDF**, here we are calling the **term_frequncy** for the particular word. And then counting the articles which contain the word(query). And using these values we are calculating the TFIDF "
   ]
  },
  {
   "cell_type": "code",
   "execution_count": 12,
   "metadata": {
    "collapsed": true
   },
   "outputs": [],
   "source": [
    "def TFIDF(article_id, query):\n",
    "    tf = term_frequency[query][article_id]\n",
    "    total_articles = len(snippets)\n",
    "    desired_articles = len(term_frequency[query])\n",
    "    if desired_articles!=0:\n",
    "        tfidf = tf*np.log(total_articles/desired_articles)\n",
    "    else:\n",
    "        tfidf = tf*np.log(total_articles/1)\n",
    "    return tfidf\n",
    "    "
   ]
  },
  {
   "cell_type": "markdown",
   "metadata": {},
   "source": [
    "### Saving the data in pickle file"
   ]
  },
  {
   "cell_type": "code",
   "execution_count": 13,
   "metadata": {
    "collapsed": true
   },
   "outputs": [],
   "source": [
    "###########################################################################\n",
    "## saving and loading\n",
    " \n",
    "import pickle\n",
    " \n",
    "def picklesave(obj, filename):\n",
    "    print('Saving .. ')\n",
    "    ff = open(filename, 'wb')\n",
    "    pickle.dump(obj, ff)\n",
    "    ff.close()\n",
    "    print('Done')\n",
    "    return True\n",
    " \n",
    "def pickleload(filename):\n",
    "    print('Loading .. ')\n",
    "    ff = open(filename, 'rb')\n",
    "    obj = pickle.load(ff)\n",
    "    ff.close()\n",
    "    print('Done')\n",
    "    return obj\n",
    " "
   ]
  },
  {
   "cell_type": "code",
   "execution_count": 14,
   "metadata": {},
   "outputs": [
    {
     "name": "stdout",
     "output_type": "stream",
     "text": [
      "Saving .. \n",
      "Done\n",
      "Loading .. \n",
      "Done\n"
     ]
    }
   ],
   "source": [
    "picklesave([snippets, term_frequency], 'data-600.pdata')\n",
    "snippets, term_frequency = pickleload('data-600.pdata')"
   ]
  },
  {
   "cell_type": "markdown",
   "metadata": {},
   "source": [
    "## Ranking the articles for Search!\n",
    "It's time to write the final search function."
   ]
  },
  {
   "cell_type": "code",
   "execution_count": null,
   "metadata": {
    "collapsed": true
   },
   "outputs": [],
   "source": [
    "import math\n",
    "\n",
    "def sort(dictionary):\n",
    "    m= defaultdict(float)\n",
    "    for w in sorted(dictionary, key=dictionary.get, reverse=True):\n",
    "        m[w]=dictionary[w]\n",
    "    return m\n",
    "D = len(snippets)\n",
    "def search(query, nresults=10):\n",
    "    tokens = get_tokens(query)\n",
    "    scores = defaultdict(float)\n",
    "    for token in tokens:\n",
    "        for article, score in term_frequency[token].items():\n",
    "            scores[article] = TFIDF(article,token) \n",
    "    new_scores = sort(scores)\n",
    "    return new_scores# TODO: top nresults results\n",
    " \n",
    "def display_results(query, results):\n",
    "    print('You search for: \"%s\"' % query)\n",
    "    print('-'*100)\n",
    "    for result in results:\n",
    "        print(snippets[result])\n",
    "    print('='*100)"
   ]
  },
  {
   "cell_type": "markdown",
   "metadata": {},
   "source": [
    "**The interactive search bar**"
   ]
  },
  {
   "cell_type": "code",
   "execution_count": null,
   "metadata": {},
   "outputs": [
    {
     "name": "stdout",
     "output_type": "stream",
     "text": [
      "Please enter the search query: \n",
      "Enter q to quitobama\n",
      "You search for: \"obama\"\n",
      "----------------------------------------------------------------------------------------------------\n",
      "= Bob Dylan = Bob Dylan ( / ˈdɪlən / ; born Robert Allen Zimmerman , May 24 , 1941 ) is an American singer @-@ songwriter , artist and writer . He has been influential in popular music and culture for more than five decades . Much of his most celebrated work dates from the 1960s when his songs\n",
      "= 2010 Haiti earthquake = The 2010 Haiti earthquake ( French : Séisme de 2010 à Haïti ; Haitian Creole : Tranblemanntè 12 janvye 2010 nan peyi Ayiti ) was a catastrophic magnitude 7 @.@ 0 Mw earthquake , with an epicenter near the town of Léogâne ( Ouest ) , approximately 25 kilometres ( 16 mi\n",
      "= Berkley Bedell = Berkley Warren Bedell ( born March 5 , 1921 ) is a former U.S. Representative from Iowa . After starting a successful business in his youth , Berkley Fly Co . , he ran for the United States Congress in 1972 , but was defeated by incumbent Wiley Mayne . In 1974 , however , Be\n",
      "= Sholay = Sholay ( pronunciation , meaning \" Embers \" ) is a 1975 Indian Hindi @-@ language action @-@ adventure film directed by Ramesh Sippy and produced by his father G. P. Sippy . The film follows two criminals , Veeru and Jai ( played by Dharmendra and Amitabh Bachchan ) , hired by a ret\n",
      "= Chris Turner ( American football ) = Chris Turner ( born September 8 , 1987 ) is an American football quarterback . He played quarterback for the Maryland Terrapins at the University of Maryland from 2007 to 2009 . Turner began his career at Maryland as a redshirt in 2005 and then served as\n",
      "= Rio de Janeiro bid for the 2016 Summer Olympics = The Rio de Janeiro bid for the 2016 Summer Olympics and Paralympics was a successful bid to host the Games of the XXXI Olympiad and the XV Paralympic Games , respectively . It was submitted on September 7 , 2007 , and recognized as an Applica\n",
      "= Mumia Abu @-@ Jamal = Mumia Abu @-@ Jamal ( born Wesley Cook April 24 , 1954 ) is a convicted murderer who was sentenced to death in 1982 for the 1981 murder of Philadelphia police officer Daniel Faulkner . His sentence was later commuted to life imprisonment without parole . Abu @-@ Jamal\n",
      "= Cambodian Campaign = The Cambodian Campaign ( also known as the Cambodian Incursion and the Cambodian Invasion ) was a series of military operations conducted in eastern Cambodia during 1970 by the United States and the Republic of Vietnam ( South Vietnam ) ( NRA ) during the Vietnam War . T\n",
      "====================================================================================================\n",
      "Please enter the search query: \n",
      "Enter q to quitindia\n",
      "You search for: \"india\"\n",
      "----------------------------------------------------------------------------------------------------\n",
      "= Independence Day ( India ) = Independence Day , observed annually on 15 August is a national holiday in India commemorating the nation 's independence from the British Empire on 15 August 1947 . India attained independence following an Independence Movement noted for largely nonviolent resis\n",
      "= Mortimer Wheeler = Sir Robert Eric Mortimer Wheeler CH , CIE , MC , TD , FSA , FRS , FBA ( 10 September 1890 – 22 July 1976 ) was a British archaeologist and officer in the British Army . Over the course of his career , he served as Director of both the National Museum of Wales and London Mu\n",
      "= Varanasi = Varanasi ( Hindustani pronunciation : [ ʋaːˈraːɳəsi ] ) , also known as Benares , Banaras ( Banāras [ bəˈnaːrəs ] ) , or Kashi ( Kāśī [ ˈkaːʃi ] ) , is a North Indian city on the banks of the Ganges in Uttar Pradesh , India , 320 kilometres ( 200 mi ) south @-@ east of the state c\n",
      "= Sholay = Sholay ( pronunciation , meaning \" Embers \" ) is a 1975 Indian Hindi @-@ language action @-@ adventure film directed by Ramesh Sippy and produced by his father G. P. Sippy . The film follows two criminals , Veeru and Jai ( played by Dharmendra and Amitabh Bachchan ) , hired by a ret\n",
      "= Jacqueline Fernandez = Jacqueline Fernandez ( born 11 August 1985 ) is a Sri Lankan actress , former model , and the winner of the 2006 Miss Universe Sri Lanka pageant . As Miss Universe Sri Lanka she represented her country at the 2006 world Miss Universe pageant . She graduated with a degr\n",
      "= Vistara = Tata SIA Airlines Limited , operating as Vistara , is an Indian domestic airline based in Gurgaon with its hub at Delhi @-@ Indira Gandhi International Airport . The carrier , a joint venture between Tata Sons and Singapore Airlines , commenced operations on 9 January 2015 with its\n",
      "= Arikamedu = Arikamedu is an archaeological site in Southern India , inKakkayanthope , Ariyankuppam Commune , Puducherry . It is 4 kilometres ( 2 @.@ 5 mi ) from the capital , Pondicherry of the Indian territory of Puducherry . Sir Mortimer Wheeler 1945 , and Jean @-@ Marie Casal conducted\n",
      "= Elephanta Caves = Elephanta caves are a network of sculpted caves located on Elephanta Island , or Gharapuri ( literally \" the city of caves \" ) in Mumbai Harbour , 10 kilometres ( 6 @.@ 2 mi ) to the east of the city of Mumbai in the Indian state of Maharashtra . The island , located on an\n",
      "= Battle of Tellicherry = The Battle of Tellicherry was a naval action fought off the Indian port of Tellicherry between British and French warships on 18 November 1791 during the Third Anglo @-@ Mysore War . Britain and France were not at war at the time of the engagement , but French support\n",
      "= Arihant @-@ class submarine = The Arihant class ( Sanskrit , for Killer of Enemies ) is a class of nuclear @-@ powered ballistic missile submarines being built for the Indian Navy . They were developed under the US $ 2 @.@ 9 billion Advanced Technology Vessel ( ATV ) project to design and bu\n",
      "= HMS Marlborough ( 1912 ) = HMS Marlborough was an Iron Duke @-@ class battleship of the British Royal Navy , named in honour of John Churchill , 1st Duke of Marlborough . She was built at Devonport Royal Dockyard between January 1912 and June 1914 , entering service just before the outbreak\n",
      "= Leg before wicket = Leg before wicket ( lbw ) is one of the ways in which a batsman can be dismissed in the sport of cricket . Following an appeal by the fielding side , the umpire may rule a batsman out lbw if the ball would have struck the wicket , but was instead intercepted by any part o\n",
      "= Stay @-@ at @-@ home dad = A stay @-@ at @-@ home dad ( alternatively , stay at home father , house dad , SAHD , househusband , or house @-@ spouse ) is a father who is the main caregiver of the children and is the homemaker of the household . As families have evolved , the practice of being\n",
      "= Burn = A burn is a type of injury to skin , or other tissues , caused by heat , cold , electricity , chemicals , friction , or radiation . Most burns are due to heat from hot liquids , solids , or fire . Among women in many areas of the world the risk is related to the use of open cooking fi\n",
      "= Magadheera = Magadheera ( English : Great Warrior ) is a 2009 Indian Telugu @-@ language romantic @-@ action film , written by K. V. Vijayendra Prasad and directed by S. S. Rajamouli . Based on the theme of reincarnation , the film was produced by Allu Aravind of Geetha Arts . The film stars\n",
      "= Charles Eaton ( RAAF officer ) = Charles Eaton , OBE , AFC ( 21 December 1895 – 12 November 1979 ) was a senior officer and aviator in the Royal Australian Air Force ( RAAF ) , who later served as a diplomat . Born in London , he joined the British Army upon the outbreak of World War I and s\n",
      "= Tawny nurse shark = The tawny nurse shark ( Nebrius ferrugineus ) is a species of carpet shark in the family Ginglymostomatidae , and the only extant member of the genus Nebrius . It is found widely along coastlines in the Indo @-@ Pacific , preferring reefs , sandy flats , and seagrass beds\n",
      "= Plum cake = Plum cake refers to a wide range of cakes made with either dried fruit ( such as grapes , currants , raisins or prunes ) or with fresh fruit . There is a wide range of popular plum cakes and puddings . Since the meaning of the word \" plum \" has changed over time , many items refe\n",
      "= Hoysala literature = Hoysala literature is the large body of literature in the Kannada and Sanskrit languages produced by the Hoysala Empire ( 1025 – 1343 ) in what is now southern India . The empire was established by Nripa Kama II , came into political prominence during the rule of King Vi\n",
      "= Hannah Primrose , Countess of Rosebery = Hannah Primrose , Countess of Rosebery ( 27 July 1851 – 19 November 1890 ) was a British noblewoman , the daughter of Baron Mayer de Rothschild and the wife of Archibald , Earl of Rosebery . After inheriting her father 's fortune in 1874 , she became\n",
      "= 2016 Spanish Grand Prix = The 2016 Spanish Grand Prix ( formally known as the Formula 1 Gran Premio de España Pirelli 2016 ) was a Formula One motor race held on 15 May 2016 at the Circuit de Barcelona @-@ Catalunya in Montmeló , Spain . The race was the fifth round of the 2016 season , and\n",
      "= Astraeus hygrometricus = Astraeus hygrometricus , commonly known as the hygroscopic earthstar , the barometer earthstar , or the false earthstar , is a species of fungus in the Diplocystaceae family . Young specimens resemble a puffball when young and unopened . In maturity , the mushroom di\n",
      "= Hellblazer = Hellblazer ( also known as John Constantine , Hellblazer ) is an American contemporary horror comic book series , originally published by DC Comics , and subsequently by the Vertigo imprint since March 1993 when the imprint was introduced . Its central character is the streetwis\n",
      "= Leslie Andrew = Brigadier Leslie Wilton Andrew VC DSO ( 23 March 1897 – 8 January 1969 ) was a senior officer in the New Zealand Military Forces and a recipient of the Victoria Cross , the highest award of the British Commonwealth for gallantry \" in the face of the enemy \" . He received the\n",
      "= Action of 13 September 1810 = The Action of 13 September 1810 was an inconclusive frigate engagement during the Napoleonic Wars between British Royal Navy and French Navy frigates during which a British frigate was defeated by two French vessels near Isle de France ( now Mauritius ) , but Br\n",
      "= Truth in Numbers ? = Truth in Numbers ? Everything , According to Wikipedia is a 2010 American documentary film that explores the history and cultural implications of the online , user @-@ editable encyclopedia Wikipedia . The film considers the question of whether all individuals or just ex\n",
      "= Fieldfare = The fieldfare ( Turdus pilaris ) is a member of the thrush family Turdidae . It breeds in woodland and scrub in northern Europe and Asia . It is strongly migratory , with many northern birds moving south during the winter . It is a very rare breeder in the British Isles , but win\n",
      "= Tintin in the Congo = Tintin in the Congo ( French : Tintin au Congo ; French pronunciation : ​ [ tɛ ̃ tɛn o kɔ ̃ go ] ) is the second volume of The Adventures of Tintin , the comics series by Belgian cartoonist Hergé . Commissioned by the conservative Belgian newspaper Le Vingtième Siècle f\n",
      "= Pokiri = Pokiri ( English : Rogue ) is a 2006 Indian Telugu @-@ language action film , written and directed by Puri Jagannadh . The film was produced by Jagannadh and Manjula Ghattamaneni by their respective production companies Vaishno Academy and Indira Productions . The film stars Mahesh\n",
      "= 2008 Bahrain Grand Prix = The 2008 Bahrain Grand Prix ( formally the V Gulf Air Bahrain Grand Prix ) was a Formula One motor race held on 6 April 2008 at the Bahrain International Circuit , in Sakhir , Bahrain . It was the third race of the 2008 Formula One season . The 57 @-@ lap race was w\n",
      "= Kalyanasundara = Kalyanasundara ( कल ् याणसुन ् दर , literally \" beautiful marriage \" ) , also spelt as Kalyansundar and Kalyana Sundara , and known as Kalyanasundara @-@ murti ( \" icon of the beautiful marriage \" ) , Vaivahika @-@ murti ( वैवाहिक @-@ मूर ् ति , \" nuptial icon \" ) and Panigr\n",
      "= Laurence Olivier = Laurence Kerr Olivier , Baron Olivier , OM ( / ˈlɒrəns kɜːr ɒˈlɪvieɪ / ; 22 May 1907 – 11 July 1989 ) was an English actor who , along with his contemporaries Ralph Richardson and John Gielgud , dominated the British stage of the mid @-@ 20th century . He also worked in fi\n",
      "= Imagine ( John Lennon song ) = \" Imagine \" is a song written and performed by the English musician John Lennon . The best @-@ selling single of his solo career , its lyrics encourage the listener to imagine a world at peace without the barriers of borders or the divisions of religion and nat\n",
      "= The Clean Tech Revolution = The Clean Tech Revolution : The Next Big Growth and Investment Opportunity is a 2007 book by Ron Pernick and Clint Wilder , who say that commercializing clean technologies is a profitable enterprise that is moving steadily into mainstream business . As the world e\n",
      "= Condom = A condom is a sheath @-@ shaped barrier device that may be used during sexual intercourse to reduce the probability of pregnancy and decrease the risk of sexually transmitted infections ( STIs ) such as HIV / AIDS . It is rolled onto an erect penis before intercourse and blocks ejac\n",
      "= Anekantavada = Anekāntavāda ( Sanskrit : अनेकान ् तवाद , \" many @-@ sidedness \" ) refers to the principles of pluralism and multiplicity of viewpoints , or vantage points , the notion that reality is perceived differently from diverse points of view , and that no single point of view is the\n",
      "= The General in His Labyrinth = The General in His Labyrinth ( original Spanish title : El general en su laberinto ) is a novel by the Colombian writer and Nobel laureate Gabriel García Márquez . It is a fictionalized account of the last days of Simón Bolívar , liberator and leader of Gran Co\n",
      "= Acute myeloid leukemia = Acute myeloid leukemia ( AML ) , also known as acute myelogenous leukemia or acute nonlymphocytic leukemia ( ANLL ) , is a cancer of the myeloid line of blood cells , characterized by the rapid growth of abnormal white blood cells that accumulate in the bone marrow a\n",
      "= Galveston , Texas = Galveston / ˈɡælvᵻstən / is a coastal city located on Galveston Island and Pelican Island in the U.S. state of Texas . The community of 208 @.@ 3 square miles ( 539 km2 ) , with its population of 47 @,@ 762 people ( 2012 Census estimate ) , is the county seat and second @\n",
      "= L.A.M.B. = L.A.M.B. is a fashion line by American singer Gwen Stefani , the lead vocalist of the rock band No Doubt . The line manufactures apparel and fashion accessories . It was founded in 2003 and made its runway debut in 2004 . The fashion line manufactures accessories like shoes , watc\n",
      "= Lactarius indigo = Lactarius indigo , commonly known as the indigo milk cap , the indigo ( or blue ) lactarius , or the blue milk mushroom , is a species of agaric fungus in the family Russulaceae . A widely distributed species , it grows naturally in eastern North America , East Asia , and\n",
      "= First Battle of Maryang San = The First Battle of Maryang San ( 3 – 8 October 1951 ) , also known as the Defensive Battle of Maliangshan ( Chinese : 马良山防御战 ; pinyin : Mǎliáng Shān Fángyù Zhàn ) , was fought during the Korean War between United Nations ( UN ) forces — primarily Australian and\n",
      "= Oldham = Oldham / ˈɒldəm / is a large town in Greater Manchester , England , amid the Pennines between the rivers Irk and Medlock , 5 @.@ 3 miles ( 8 @.@ 5 km ) south @-@ southeast of Rochdale and 6 @.@ 9 miles ( 11 @.@ 1 km ) northeast of Manchester . Together with several smaller surroundi\n",
      "= Etymology of Wicca = In Modern English , the term Wicca ( / ˈwɪkə / ) refers to Wicca , the religion of contemporary Pagan Witchcraft . It is used within the Pagan community under competing definitions . One refers to the entirety of the Pagan Witchcraft movement , while the other refers exp\n",
      "= Roger Federer = Roger Federer ( German : [ ˈfeːdərər ] born 8 August 1981 ) is a Swiss professional tennis player who is currently ranked world No. 3 by the Association of Tennis Professionals ( ATP ) . His accomplishments in professional tennis have led to him being regarded by many as the\n",
      "= HMS Black Prince ( 1904 ) = HMS Black Prince was a Duke of Edinburgh @-@ class armoured cruiser built for the Royal Navy in the mid @-@ 1900s . She was stationed in the Mediterranean when the First World War began and participated in the pursuit of the German battlecruiser SMS Goeben and lig\n",
      "= Amanita muscaria = Amanita muscaria , commonly known as the fly agaric or fly amanita , is a mushroom and psychoactive basidiomycete fungus , one of many in the genus Amanita . Native throughout the temperate and boreal regions of the Northern Hemisphere , Amanita muscaria has been unintenti\n",
      "= Cater 2 U = \" Cater 2 U \" is a song by American recording group Destiny 's Child , taken from their fourth studio album Destiny Fulfilled ( 2004 ) . Columbia Records released it as the album 's fourth and final single on June 14 , 2005 . The song was written by band members Beyoncé , Kelly R\n",
      "= George Calvert , 1st Baron Baltimore = George Calvert , 1st Baron Baltimore ( 1579 – 15 April 1632 ) was an English politician and colonizer . He achieved domestic political success as a Member of Parliament and later Secretary of State under King James I. He lost much of his political power\n",
      "= Bodyline = Bodyline , also known as fast leg theory bowling , was a cricketing tactic devised by the English cricket team for their 1932 – 33 Ashes tour of Australia , specifically to combat the extraordinary batting skill of Australia 's Don Bradman . A bodyline delivery was one where the c\n",
      "= 10 @.@ 6 ° compared to 7 ° for Mercury and 17 ° for Pluto ) and moderately eccentric ( e = 0 @.@ 08 compared to 0 @.@ 09 for Mars ) . The diagram illustrates the orbits of Ceres ( blue ) and several planets ( white and gray ) . The segments of orbits below the ecliptic are plotted in darker\n",
      "= Verpa bohemica = Verpa bohemica is a species of fungus in the family Morchellaceae . Commonly known as the early morel ( or early false morel ) or the wrinkled thimble @-@ cap , it is one of several species known informally as a \" false morel \" . The mushroom has a pale yellow or brown thimb\n",
      "= 2 / 4th Machine Gun Battalion ( Australia ) = The 2 / 4th Machine Gun Battalion was an Australian Army unit raised for service with the all volunteer Second Australian Imperial Force ( 2nd AIF ) during the Second World War . Formed in late 1940 as part of the 8th Division , the battalion was\n",
      "= Banai ( goddess ) = Banai ( Marathi : बाणाई Bāṇāi , sometimes बानाई ) , also known as Banu ( Bāṇu , बानू ) and Banu @-@ bai ( Bāṇu @-@ bāī , बानू @-@ बाई ) , is a Hindu goddess and the second wife of Khandoba , a form of the god Shiva worshipped in the Deccan – predominantly in the Indian st\n",
      "= Mozambican War of Independence = The Mozambican War of Independence was an armed conflict between the guerrilla forces of the Mozambique Liberation Front or FRELIMO ( Frente de Libertação de Moçambique ) , and Portugal . The war officially started on September 25 , 1964 , and ended with a ce\n",
      "= Common starling = The common starling ( Sturnus vulgaris ) , also known as the European starling , or in the British Isles just the starling , is a medium @-@ sized passerine bird in the starling family , Sturnidae . It is about 20 cm ( 8 in ) long and has glossy black plumage with a metalli\n",
      "====================================================================================================\n"
     ]
    }
   ],
   "source": [
    "###########################################################################\n",
    "## interactive\n",
    "while True:\n",
    "    #clear_output()\n",
    "    query = input(\"Please enter the search query: \\nEnter q to quit\")\n",
    "    display_results(query, search(query))\n",
    "    if query=='q':\n",
    "        break"
   ]
  },
  {
   "cell_type": "code",
   "execution_count": null,
   "metadata": {
    "collapsed": true
   },
   "outputs": [],
   "source": []
  }
 ],
 "metadata": {
  "kernelspec": {
   "display_name": "Python 3",
   "language": "python",
   "name": "python3"
  },
  "language_info": {
   "codemirror_mode": {
    "name": "ipython",
    "version": 3
   },
   "file_extension": ".py",
   "mimetype": "text/x-python",
   "name": "python",
   "nbconvert_exporter": "python",
   "pygments_lexer": "ipython3",
   "version": "3.6.1"
  }
 },
 "nbformat": 4,
 "nbformat_minor": 2
}
